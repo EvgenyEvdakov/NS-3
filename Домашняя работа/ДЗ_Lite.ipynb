{
  "cells": [
    {
      "cell_type": "markdown",
      "metadata": {
        "id": "P_1ERDRdq3Ym"
      },
      "source": [
        "### Задание"
      ]
    },
    {
      "cell_type": "markdown",
      "metadata": {
        "id": "2rJEv0dWq6kW"
      },
      "source": [
        "Создайте нейронную сеть, распознающую рукописные цифры. Используя подготовленную базу и шаблон ноутбука, нормируйте данные, создайте и обучите сверточную сеть.\n",
        "\n",
        "**Параметры модели:** сеть должна содержать минимум 2 сверточных слоя; полносвязные слои; слои подвыборки, нормализации, регуляризации по 1 шт.\n",
        "\n",
        "**Гиперпараметры обучения:** функция ошибки - категориальная кроссэнтропия, оптимизатор - Adam с шагом обучения одна тысячная, размер батча - 128, количество эпох 15, детали обучения - отображать.\n",
        "\n",
        "**В конце** выведите график обучения: доли верных ответов на обучающей и проверочной выборках."
      ]
    },
    {
      "cell_type": "markdown",
      "source": [
        "# Загрузка датасета MNIST\n",
        "В этом блоке происходит загрузка популярного набора данных MNIST, который содержит изображения рукописных цифр от 0 до 9:\n",
        "\n",
        "Импортируется модуль mnist из tensorflow.keras.datasets, предназначенный для загрузки набора данных.\n",
        "\n",
        "Метод .load_data() автоматически скачивает и разделяет данные на две части:\n",
        "\n",
        "- x_train, y_train — обучающие изображения и соответствующие им метки классов (всего 60 000 примеров).\n",
        "\n",
        "- x_test, y_test — тестовые изображения и метки классов (всего 10 000 примеров)."
      ],
      "metadata": {
        "id": "aBN-dJ6nPX9I"
      }
    },
    {
      "cell_type": "code",
      "execution_count": null,
      "metadata": {
        "colab": {
          "base_uri": "https://localhost:8080/"
        },
        "id": "q7uk4J4Jq7U2",
        "outputId": "c3e72d25-db06-4b68-a247-7ec6e0a86fb5"
      },
      "outputs": [
        {
          "output_type": "stream",
          "name": "stdout",
          "text": [
            "Downloading data from https://storage.googleapis.com/tensorflow/tf-keras-datasets/mnist.npz\n",
            "\u001b[1m11490434/11490434\u001b[0m \u001b[32m━━━━━━━━━━━━━━━━━━━━\u001b[0m\u001b[37m\u001b[0m \u001b[1m0s\u001b[0m 0us/step\n"
          ]
        }
      ],
      "source": [
        "# загрузка датасета MNIST\n",
        "\n",
        "from tensorflow.keras.datasets import mnist\n",
        "(x_train, y_train), (x_test, y_test) = mnist.load_data()"
      ]
    },
    {
      "cell_type": "markdown",
      "source": [
        "# Подключение необходимых библиотек\n",
        "В этом блоке подключаются все базовые библиотеки и инструменты, необходимые для подготовки и визуализации данных, работы с массивами, случайными значениями и изображениями:\n",
        "\n",
        "- tensorflow.keras.utils — содержит функцию to_categorical() для преобразования меток классов в формат one-hot encoding.\n",
        "\n",
        "- numpy — используется для числовых операций и работы с массивами данных.\n",
        "\n",
        "- matplotlib.pyplot — применяется для построения графиков, например, визуализации изображений и обучения модели.\n",
        "\n",
        "- random — модуль для генерации случайных чисел, может быть полезен для случайного выбора изображений или настройки случайных параметров.\n",
        "\n",
        "- PIL.Image — позволяет работать с изображениями, в частности, с их загрузкой и обработкой.\n",
        "\n",
        "- %matplotlib inline — специальная команда Jupyter Notebook, которая позволяет отображать графики и изображения прямо внутри ячеек ноутбука.\n",
        "\n",
        "- В блоке можно также добавить настройку подавления ошибок, если требуется исключить предупреждения, чтобы не загромождать вывод."
      ],
      "metadata": {
        "id": "Zhdr-GvVPIkJ"
      }
    },
    {
      "cell_type": "code",
      "execution_count": null,
      "metadata": {
        "id": "wNdXDtvwrH3m"
      },
      "outputs": [],
      "source": [
        "# Стандартная библиотека\n",
        "import random\n",
        "import warnings\n",
        "\n",
        "# Сторонние библиотеки\n",
        "import matplotlib.pyplot as plt\n",
        "import numpy as np\n",
        "from PIL import Image\n",
        "\n",
        "# TensorFlow / Keras\n",
        "from tensorflow.keras import utils\n",
        "\n",
        "# Магическая команда Jupyter\n",
        "%matplotlib inline  # Вывод изображений в ноутбуке, а не в консоль или файл\n",
        "\n",
        "# Подавление предупреждений\n",
        "warnings.filterwarnings(\"ignore\")"
      ]
    },
    {
      "cell_type": "markdown",
      "source": [
        "# Визуализация примеров изображений из набора MNIST\n",
        "В этом блоке выполняется визуальный обзор данных, представленных в обучающем наборе MNIST. Это помогает лучше понять структуру и разнообразие входных данных:\n",
        "\n",
        "- Создается полотно (fig, axs) с 10 ячейками (по количеству классов цифр от 0 до 9) с помощью plt.subplots.\n",
        "\n",
        "Для каждого класса:\n",
        "\n",
        "- Определяются индексы всех примеров соответствующего класса в метках y_train с помощью np.where.\n",
        "\n",
        "- Случайным образом выбирается один из индексов для выбора изображения из x_train.\n",
        "\n",
        "- Изображение преобразуется в формат, подходящий для отображения, и визуализируется с помощью imshow, используя градации серого (cmap='gray').\n",
        "\n",
        "Отображение производится с помощью plt.show()."
      ],
      "metadata": {
        "id": "okxAk9-XPjlc"
      }
    },
    {
      "cell_type": "code",
      "execution_count": null,
      "metadata": {
        "colab": {
          "base_uri": "https://localhost:8080/",
          "height": 112
        },
        "id": "MSGEulv9rJBW",
        "outputId": "9d38eb2d-1955-49ed-8350-ddf6c7328a91"
      },
      "outputs": [
        {
          "output_type": "display_data",
          "data": {
            "text/plain": [
              "<Figure size 2500x300 with 10 Axes>"
            ],
            "image/png": "[encoded data removed]"
          },
          "metadata": {}
        }
      ],
      "source": [
        "# вывод изображений каждого класса для ознакомления с датасетом\n",
        "\n",
        "fig, axs = plt.subplots(1, 10, figsize=(25,3)) # создаем полотно для 10 графиков с размером 25 на 3\n",
        "for i in range(10):\n",
        "  label_indexes = np.where(y_train == i)[0] # получаем список из индексов положений класса i в y_train\n",
        "  index = random.choice(label_indexes) # выбирает случайный индекс из списка созданного выше\n",
        "  img = x_train[index] # выбираем из x_train нужное положение\n",
        "  axs[i].imshow(Image.fromarray(img), cmap='gray') # выводим изображение\n",
        "\n",
        "plt.show()"
      ]
    },
    {
      "cell_type": "markdown",
      "source": [
        "# Подготовка данных для сверточной нейронной сети\n",
        "В этом блоке осуществляется предварительная обработка данных, необходимая для корректной работы сверточной нейронной сети:\n",
        "\n",
        "- Добавление размерности: MNIST-снимки изначально представлены как двумерные массивы 28×28.\n",
        "Сверточные слои ожидают вход в виде тензора с тремя пространственными измерениями (высота, ширина, каналы).\n",
        "Так как изображения черно-белые, добавляется размерность с одним каналом (reshape(..., 1)).\n",
        "\n",
        "- One-hot encoding (OHE):\n",
        "Метки классов y_train и y_test переводятся в формат one-hot векторов, содержащих 10 элементов (по количеству цифр от 0 до 9).\n",
        "Это необходимо, чтобы можно было применять категориальную кроссэнтропию как функцию потерь.\n",
        "\n",
        "И выполняется проверка размеров: вывод форм и размеров выборок подтверждает корректность преобразований и готовность данных к обучению сверточной модели."
      ],
      "metadata": {
        "id": "6EV24lBMPyw6"
      }
    },
    {
      "cell_type": "code",
      "execution_count": null,
      "metadata": {
        "colab": {
          "base_uri": "https://localhost:8080/"
        },
        "id": "ssSn55GkrPne",
        "outputId": "3a14d1e5-f8d7-4eb7-8cb7-061c69caae39"
      },
      "outputs": [
        {
          "output_type": "stream",
          "name": "stdout",
          "text": [
            "x_train: (60000, 28, 28, 1)\n",
            "x_test: (10000, 28, 28, 1)\n",
            "\n",
            "y_train: (60000, 10)\n",
            "y_test: (10000, 10)\n"
          ]
        }
      ],
      "source": [
        "# добавляем размерность массиву mnist, чтобы сеть поняла что это чб\n",
        "x_train = x_train.reshape(x_train.shape[0], x_train.shape[1], x_train.shape[2], 1)\n",
        "x_test = x_test.reshape(x_test.shape[0], x_test.shape[1], x_test.shape[2], 1)\n",
        "\n",
        "# преобразуем выборки с ответами в OHE\n",
        "y_train = utils.to_categorical(y_train, 10)\n",
        "y_test = utils.to_categorical(y_test, 10)\n",
        "\n",
        "# посмотрим форматы выборок перед обучением\n",
        "print('x_train:', x_train.shape)\n",
        "print('x_test:', x_test.shape)\n",
        "print()\n",
        "print('y_train:', y_train.shape)\n",
        "print('y_test:', y_test.shape)"
      ]
    },
    {
      "cell_type": "markdown",
      "source": [
        "# Создание и компиляция сверточной нейронной сети\n",
        "В этом блоке строится и компилируется сверточная нейронная сеть (CNN) для распознавания рукописных цифр из базы MNIST:\n",
        "\n",
        "- Инициализация модели: cначала создается объект модели Sequential, позволяющий добавлять слои последовательно.\n",
        "\n",
        "Первый сверточный слой:\n",
        "- Слой Conv2D с 32 фильтрами размером 3×3 извлекает низкоуровневые признаки из входных изображений.\n",
        "Указывается форма входа (28, 28, 1) — ч/б изображения размером 28×28 пикселей.\n",
        "За ним идет слой BatchNormalization, нормализующий активации для ускорения и стабилизации обучения.\n",
        "\n",
        "Второй сверточный слой:\n",
        "- Еще один Conv2D с 64 фильтрами. Далее следует MaxPooling2D, уменьшающий размерность признаков, и Dropout(0.25), помогающий бороться с переобучением.\n",
        "\n",
        "Преобразование признаков:\n",
        "- Слой Flatten превращает двумерную карту признаков в одномерный вектор для подачи в полносвязные слои.\n",
        "\n",
        "Полносвязный слой:\n",
        "- Содержит 128 нейронов и функцию активации ReLU.\n",
        "Второй Dropout слой (0.5) обеспечивает дополнительную регуляризацию.\n",
        "\n",
        "Выходной слой:\n",
        "- Слой Dense(10) с функцией softmax выдает вероятности принадлежности к 10 классам (цифры 0–9).\n",
        "\n",
        "Затем выполняеся компиляция модели: в качестве функции потерь используется categorical_crossentropy, подходящая для многоклассовой классификации.\n",
        "Оптимизатор — Adam с шагом обучения 0.001. В качестве метрики — точность (accuracy).\n",
        "\n",
        "И выполняем вывод структуры:\n",
        "Метод model.summary() показывает архитектуру модели и количество параметров, обучаемых на каждом слое."
      ],
      "metadata": {
        "id": "jo3ZcU-3QOTU"
      }
    },
    {
      "cell_type": "code",
      "execution_count": null,
      "metadata": {
        "colab": {
          "base_uri": "https://localhost:8080/",
          "height": 433
        },
        "id": "_El0EN__tDGV",
        "outputId": "033a5f74-4740-4047-d922-1deabff423c9"
      },
      "outputs": [
        {
          "output_type": "display_data",
          "data": {
            "text/plain": [
              "\u001b[1mModel: \"sequential\"\u001b[0m\n"
            ],
            "text/html": [
              "<pre style=\"white-space:pre;overflow-x:auto;line-height:normal;font-family:Menlo,'DejaVu Sans Mono',consolas,'Courier New',monospace\"><span style=\"font-weight: bold\">Model: \"sequential\"</span>\n",
              "</pre>\n"
            ]
          },
          "metadata": {}
        },
        {
          "output_type": "display_data",
          "data": {
            "text/plain": [
              "┏━━━━━━━━━━━━━━━━━━━━━━━━━━━━━━━━━┳━━━━━━━━━━━━━━━━━━━━━━━━┳━━━━━━━━━━━━━━━┓\n",
              "┃\u001b[1m \u001b[0m\u001b[1mLayer (type)                   \u001b[0m\u001b[1m \u001b[0m┃\u001b[1m \u001b[0m\u001b[1mOutput Shape          \u001b[0m\u001b[1m \u001b[0m┃\u001b[1m \u001b[0m\u001b[1m      Param #\u001b[0m\u001b[1m \u001b[0m┃\n",
              "┡━━━━━━━━━━━━━━━━━━━━━━━━━━━━━━━━━╇━━━━━━━━━━━━━━━━━━━━━━━━╇━━━━━━━━━━━━━━━┩\n",
              "│ conv2d (\u001b[38;5;33mConv2D\u001b[0m)                 │ (\u001b[38;5;45mNone\u001b[0m, \u001b[38;5;34m26\u001b[0m, \u001b[38;5;34m26\u001b[0m, \u001b[38;5;34m32\u001b[0m)     │           \u001b[38;5;34m320\u001b[0m │\n",
              "├─────────────────────────────────┼────────────────────────┼───────────────┤\n",
              "│ batch_normalization             │ (\u001b[38;5;45mNone\u001b[0m, \u001b[38;5;34m26\u001b[0m, \u001b[38;5;34m26\u001b[0m, \u001b[38;5;34m32\u001b[0m)     │           \u001b[38;5;34m128\u001b[0m │\n",
              "│ (\u001b[38;5;33mBatchNormalization\u001b[0m)            │                        │               │\n",
              "├─────────────────────────────────┼────────────────────────┼───────────────┤\n",
              "│ conv2d_1 (\u001b[38;5;33mConv2D\u001b[0m)               │ (\u001b[38;5;45mNone\u001b[0m, \u001b[38;5;34m24\u001b[0m, \u001b[38;5;34m24\u001b[0m, \u001b[38;5;34m64\u001b[0m)     │        \u001b[38;5;34m18,496\u001b[0m │\n",
              "├─────────────────────────────────┼────────────────────────┼───────────────┤\n",
              "│ max_pooling2d (\u001b[38;5;33mMaxPooling2D\u001b[0m)    │ (\u001b[38;5;45mNone\u001b[0m, \u001b[38;5;34m12\u001b[0m, \u001b[38;5;34m12\u001b[0m, \u001b[38;5;34m64\u001b[0m)     │             \u001b[38;5;34m0\u001b[0m │\n",
              "├─────────────────────────────────┼────────────────────────┼───────────────┤\n",
              "│ dropout (\u001b[38;5;33mDropout\u001b[0m)               │ (\u001b[38;5;45mNone\u001b[0m, \u001b[38;5;34m12\u001b[0m, \u001b[38;5;34m12\u001b[0m, \u001b[38;5;34m64\u001b[0m)     │             \u001b[38;5;34m0\u001b[0m │\n",
              "├─────────────────────────────────┼────────────────────────┼───────────────┤\n",
              "│ flatten (\u001b[38;5;33mFlatten\u001b[0m)               │ (\u001b[38;5;45mNone\u001b[0m, \u001b[38;5;34m9216\u001b[0m)           │             \u001b[38;5;34m0\u001b[0m │\n",
              "├─────────────────────────────────┼────────────────────────┼───────────────┤\n",
              "│ dense (\u001b[38;5;33mDense\u001b[0m)                   │ (\u001b[38;5;45mNone\u001b[0m, \u001b[38;5;34m128\u001b[0m)            │     \u001b[38;5;34m1,179,776\u001b[0m │\n",
              "├─────────────────────────────────┼────────────────────────┼───────────────┤\n",
              "│ dropout_1 (\u001b[38;5;33mDropout\u001b[0m)             │ (\u001b[38;5;45mNone\u001b[0m, \u001b[38;5;34m128\u001b[0m)            │             \u001b[38;5;34m0\u001b[0m │\n",
              "├─────────────────────────────────┼────────────────────────┼───────────────┤\n",
              "│ dense_1 (\u001b[38;5;33mDense\u001b[0m)                 │ (\u001b[38;5;45mNone\u001b[0m, \u001b[38;5;34m10\u001b[0m)             │         \u001b[38;5;34m1,290\u001b[0m │\n",
              "└─────────────────────────────────┴────────────────────────┴───────────────┘\n"
            ],
            "text/html": [
              "<pre style=\"white-space:pre;overflow-x:auto;line-height:normal;font-family:Menlo,'DejaVu Sans Mono',consolas,'Courier New',monospace\">┏━━━━━━━━━━━━━━━━━━━━━━━━━━━━━━━━━┳━━━━━━━━━━━━━━━━━━━━━━━━┳━━━━━━━━━━━━━━━┓\n",
              "┃<span style=\"font-weight: bold\"> Layer (type)                    </span>┃<span style=\"font-weight: bold\"> Output Shape           </span>┃<span style=\"font-weight: bold\">       Param # </span>┃\n",
              "┡━━━━━━━━━━━━━━━━━━━━━━━━━━━━━━━━━╇━━━━━━━━━━━━━━━━━━━━━━━━╇━━━━━━━━━━━━━━━┩\n",
              "│ conv2d (<span style=\"color: #0087ff; text-decoration-color: #0087ff\">Conv2D</span>)                 │ (<span style=\"color: #00d7ff; text-decoration-color: #00d7ff\">None</span>, <span style=\"color: #00af00; text-decoration-color: #00af00\">26</span>, <span style=\"color: #00af00; text-decoration-color: #00af00\">26</span>, <span style=\"color: #00af00; text-decoration-color: #00af00\">32</span>)     │           <span style=\"color: #00af00; text-decoration-color: #00af00\">320</span> │\n",
              "├─────────────────────────────────┼────────────────────────┼───────────────┤\n",
              "│ batch_normalization             │ (<span style=\"color: #00d7ff; text-decoration-color: #00d7ff\">None</span>, <span style=\"color: #00af00; text-decoration-color: #00af00\">26</span>, <span style=\"color: #00af00; text-decoration-color: #00af00\">26</span>, <span style=\"color: #00af00; text-decoration-color: #00af00\">32</span>)     │           <span style=\"color: #00af00; text-decoration-color: #00af00\">128</span> │\n",
              "│ (<span style=\"color: #0087ff; text-decoration-color: #0087ff\">BatchNormalization</span>)            │                        │               │\n",
              "├─────────────────────────────────┼────────────────────────┼───────────────┤\n",
              "│ conv2d_1 (<span style=\"color: #0087ff; text-decoration-color: #0087ff\">Conv2D</span>)               │ (<span style=\"color: #00d7ff; text-decoration-color: #00d7ff\">None</span>, <span style=\"color: #00af00; text-decoration-color: #00af00\">24</span>, <span style=\"color: #00af00; text-decoration-color: #00af00\">24</span>, <span style=\"color: #00af00; text-decoration-color: #00af00\">64</span>)     │        <span style=\"color: #00af00; text-decoration-color: #00af00\">18,496</span> │\n",
              "├─────────────────────────────────┼────────────────────────┼───────────────┤\n",
              "│ max_pooling2d (<span style=\"color: #0087ff; text-decoration-color: #0087ff\">MaxPooling2D</span>)    │ (<span style=\"color: #00d7ff; text-decoration-color: #00d7ff\">None</span>, <span style=\"color: #00af00; text-decoration-color: #00af00\">12</span>, <span style=\"color: #00af00; text-decoration-color: #00af00\">12</span>, <span style=\"color: #00af00; text-decoration-color: #00af00\">64</span>)     │             <span style=\"color: #00af00; text-decoration-color: #00af00\">0</span> │\n",
              "├─────────────────────────────────┼────────────────────────┼───────────────┤\n",
              "│ dropout (<span style=\"color: #0087ff; text-decoration-color: #0087ff\">Dropout</span>)               │ (<span style=\"color: #00d7ff; text-decoration-color: #00d7ff\">None</span>, <span style=\"color: #00af00; text-decoration-color: #00af00\">12</span>, <span style=\"color: #00af00; text-decoration-color: #00af00\">12</span>, <span style=\"color: #00af00; text-decoration-color: #00af00\">64</span>)     │             <span style=\"color: #00af00; text-decoration-color: #00af00\">0</span> │\n",
              "├─────────────────────────────────┼────────────────────────┼───────────────┤\n",
              "│ flatten (<span style=\"color: #0087ff; text-decoration-color: #0087ff\">Flatten</span>)               │ (<span style=\"color: #00d7ff; text-decoration-color: #00d7ff\">None</span>, <span style=\"color: #00af00; text-decoration-color: #00af00\">9216</span>)           │             <span style=\"color: #00af00; text-decoration-color: #00af00\">0</span> │\n",
              "├─────────────────────────────────┼────────────────────────┼───────────────┤\n",
              "│ dense (<span style=\"color: #0087ff; text-decoration-color: #0087ff\">Dense</span>)                   │ (<span style=\"color: #00d7ff; text-decoration-color: #00d7ff\">None</span>, <span style=\"color: #00af00; text-decoration-color: #00af00\">128</span>)            │     <span style=\"color: #00af00; text-decoration-color: #00af00\">1,179,776</span> │\n",
              "├─────────────────────────────────┼────────────────────────┼───────────────┤\n",
              "│ dropout_1 (<span style=\"color: #0087ff; text-decoration-color: #0087ff\">Dropout</span>)             │ (<span style=\"color: #00d7ff; text-decoration-color: #00d7ff\">None</span>, <span style=\"color: #00af00; text-decoration-color: #00af00\">128</span>)            │             <span style=\"color: #00af00; text-decoration-color: #00af00\">0</span> │\n",
              "├─────────────────────────────────┼────────────────────────┼───────────────┤\n",
              "│ dense_1 (<span style=\"color: #0087ff; text-decoration-color: #0087ff\">Dense</span>)                 │ (<span style=\"color: #00d7ff; text-decoration-color: #00d7ff\">None</span>, <span style=\"color: #00af00; text-decoration-color: #00af00\">10</span>)             │         <span style=\"color: #00af00; text-decoration-color: #00af00\">1,290</span> │\n",
              "└─────────────────────────────────┴────────────────────────┴───────────────┘\n",
              "</pre>\n"
            ]
          },
          "metadata": {}
        },
        {
          "output_type": "display_data",
          "data": {
            "text/plain": [
              "\u001b[1m Total params: \u001b[0m\u001b[38;5;34m1,200,010\u001b[0m (4.58 MB)\n"
            ],
            "text/html": [
              "<pre style=\"white-space:pre;overflow-x:auto;line-height:normal;font-family:Menlo,'DejaVu Sans Mono',consolas,'Courier New',monospace\"><span style=\"font-weight: bold\"> Total params: </span><span style=\"color: #00af00; text-decoration-color: #00af00\">1,200,010</span> (4.58 MB)\n",
              "</pre>\n"
            ]
          },
          "metadata": {}
        },
        {
          "output_type": "display_data",
          "data": {
            "text/plain": [
              "\u001b[1m Trainable params: \u001b[0m\u001b[38;5;34m1,199,946\u001b[0m (4.58 MB)\n"
            ],
            "text/html": [
              "<pre style=\"white-space:pre;overflow-x:auto;line-height:normal;font-family:Menlo,'DejaVu Sans Mono',consolas,'Courier New',monospace\"><span style=\"font-weight: bold\"> Trainable params: </span><span style=\"color: #00af00; text-decoration-color: #00af00\">1,199,946</span> (4.58 MB)\n",
              "</pre>\n"
            ]
          },
          "metadata": {}
        },
        {
          "output_type": "display_data",
          "data": {
            "text/plain": [
              "\u001b[1m Non-trainable params: \u001b[0m\u001b[38;5;34m64\u001b[0m (256.00 B)\n"
            ],
            "text/html": [
              "<pre style=\"white-space:pre;overflow-x:auto;line-height:normal;font-family:Menlo,'DejaVu Sans Mono',consolas,'Courier New',monospace\"><span style=\"font-weight: bold\"> Non-trainable params: </span><span style=\"color: #00af00; text-decoration-color: #00af00\">64</span> (256.00 B)\n",
              "</pre>\n"
            ]
          },
          "metadata": {}
        }
      ],
      "source": [
        "from tensorflow.keras.utils import to_categorical\n",
        "from tensorflow.keras.models import Sequential\n",
        "from tensorflow.keras.layers import Dense, Dropout, Flatten, Conv2D, MaxPooling2D, BatchNormalization\n",
        "from tensorflow.keras.optimizers import Adam\n",
        "\n",
        "\n",
        "# Создание модели CNN\n",
        "model = Sequential()\n",
        "\n",
        "# Первый сверточный слой\n",
        "model.add(Conv2D(32, (3, 3), activation='relu', input_shape=(28, 28, 1)))\n",
        "model.add(BatchNormalization())  # Слой нормализации\n",
        "\n",
        "# Второй сверточный слой\n",
        "model.add(Conv2D(64, (3, 3), activation='relu'))\n",
        "model.add(MaxPooling2D(pool_size=(2, 2)))  # Слой подвыборки (пуллинг)\n",
        "model.add(Dropout(0.25))  # Слой регуляризации\n",
        "\n",
        "# Преобразование в одномерный вектор для полносвязных слоев\n",
        "model.add(Flatten())\n",
        "\n",
        "# Полносвязный слой\n",
        "model.add(Dense(128, activation='relu'))\n",
        "model.add(Dropout(0.5))  # Еще один слой регуляризации\n",
        "\n",
        "# Выходной слой\n",
        "model.add(Dense(10, activation='softmax'))\n",
        "\n",
        "# Компиляция модели\n",
        "model.compile(loss='categorical_crossentropy',\n",
        "              optimizer=Adam(learning_rate=0.001),\n",
        "              metrics=['accuracy'])\n",
        "# Вывод структуры модели\n",
        "model.summary()"
      ]
    },
    {
      "cell_type": "markdown",
      "source": [
        "#  Обучение сверточной нейронной сети\n",
        "В этом блоке производится обучение модели на данных MNIST:\n",
        "\n",
        "Метод обучения: используется model.fit, который запускает процесс обучения на заданное число эпох.\n",
        "\n",
        "Параметры:\n",
        "\n",
        "- x_train, y_train: обучающая выборка — изображения и метки (в OHE-формате).\n",
        "\n",
        "- batch_size=128: обучающие данные обрабатываются пакетами по 128 примеров, что позволяет эффективно использовать память и ускорить обучение.\n",
        "\n",
        "- epochs=15: модель проходит через всю обучающую выборку 15 раз.\n",
        "\n",
        "- verbose=1: отображается прогресс обучения в виде строки на каждую эпоху.\n",
        "\n",
        "- validation_data=(x_test, y_test): указаны данные для проверки точности модели после каждой эпохи."
      ],
      "metadata": {
        "id": "-ycgni-qQURQ"
      }
    },
    {
      "cell_type": "code",
      "execution_count": null,
      "metadata": {
        "colab": {
          "base_uri": "https://localhost:8080/"
        },
        "id": "USCAwFOPtDMk",
        "outputId": "558ea51b-5092-4841-c60d-2192bcbc9eaa"
      },
      "outputs": [
        {
          "output_type": "stream",
          "name": "stdout",
          "text": [
            "Epoch 1/15\n",
            "\u001b[1m469/469\u001b[0m \u001b[32m━━━━━━━━━━━━━━━━━━━━\u001b[0m\u001b[37m\u001b[0m \u001b[1m154s\u001b[0m 321ms/step - accuracy: 0.7643 - loss: 0.7590 - val_accuracy: 0.9820 - val_loss: 0.0607\n",
            "Epoch 2/15\n",
            "\u001b[1m469/469\u001b[0m \u001b[32m━━━━━━━━━━━━━━━━━━━━\u001b[0m\u001b[37m\u001b[0m \u001b[1m199s\u001b[0m 316ms/step - accuracy: 0.9419 - loss: 0.1868 - val_accuracy: 0.9870 - val_loss: 0.0437\n",
            "Epoch 3/15\n",
            "\u001b[1m469/469\u001b[0m \u001b[32m━━━━━━━━━━━━━━━━━━━━\u001b[0m\u001b[37m\u001b[0m \u001b[1m202s\u001b[0m 315ms/step - accuracy: 0.9541 - loss: 0.1400 - val_accuracy: 0.9871 - val_loss: 0.0399\n",
            "Epoch 4/15\n",
            "\u001b[1m469/469\u001b[0m \u001b[32m━━━━━━━━━━━━━━━━━━━━\u001b[0m\u001b[37m\u001b[0m \u001b[1m204s\u001b[0m 320ms/step - accuracy: 0.9619 - loss: 0.1174 - val_accuracy: 0.9880 - val_loss: 0.0380\n",
            "Epoch 5/15\n",
            "\u001b[1m469/469\u001b[0m \u001b[32m━━━━━━━━━━━━━━━━━━━━\u001b[0m\u001b[37m\u001b[0m \u001b[1m148s\u001b[0m 316ms/step - accuracy: 0.9652 - loss: 0.1028 - val_accuracy: 0.9885 - val_loss: 0.0379\n",
            "Epoch 6/15\n",
            "\u001b[1m469/469\u001b[0m \u001b[32m━━━━━━━━━━━━━━━━━━━━\u001b[0m\u001b[37m\u001b[0m \u001b[1m209s\u001b[0m 330ms/step - accuracy: 0.9703 - loss: 0.0887 - val_accuracy: 0.9908 - val_loss: 0.0336\n",
            "Epoch 7/15\n",
            "\u001b[1m469/469\u001b[0m \u001b[32m━━━━━━━━━━━━━━━━━━━━\u001b[0m\u001b[37m\u001b[0m \u001b[1m204s\u001b[0m 334ms/step - accuracy: 0.9719 - loss: 0.0826 - val_accuracy: 0.9910 - val_loss: 0.0318\n",
            "Epoch 8/15\n",
            "\u001b[1m469/469\u001b[0m \u001b[32m━━━━━━━━━━━━━━━━━━━━\u001b[0m\u001b[37m\u001b[0m \u001b[1m150s\u001b[0m 321ms/step - accuracy: 0.9753 - loss: 0.0705 - val_accuracy: 0.9891 - val_loss: 0.0381\n",
            "Epoch 9/15\n",
            "\u001b[1m469/469\u001b[0m \u001b[32m━━━━━━━━━━━━━━━━━━━━\u001b[0m\u001b[37m\u001b[0m \u001b[1m156s\u001b[0m 333ms/step - accuracy: 0.9778 - loss: 0.0656 - val_accuracy: 0.9906 - val_loss: 0.0345\n",
            "Epoch 10/15\n",
            "\u001b[1m469/469\u001b[0m \u001b[32m━━━━━━━━━━━━━━━━━━━━\u001b[0m\u001b[37m\u001b[0m \u001b[1m193s\u001b[0m 315ms/step - accuracy: 0.9798 - loss: 0.0597 - val_accuracy: 0.9912 - val_loss: 0.0371\n",
            "Epoch 11/15\n",
            "\u001b[1m469/469\u001b[0m \u001b[32m━━━━━━━━━━━━━━━━━━━━\u001b[0m\u001b[37m\u001b[0m \u001b[1m200s\u001b[0m 311ms/step - accuracy: 0.9801 - loss: 0.0563 - val_accuracy: 0.9912 - val_loss: 0.0313\n",
            "Epoch 12/15\n",
            "\u001b[1m469/469\u001b[0m \u001b[32m━━━━━━━━━━━━━━━━━━━━\u001b[0m\u001b[37m\u001b[0m \u001b[1m206s\u001b[0m 321ms/step - accuracy: 0.9830 - loss: 0.0504 - val_accuracy: 0.9910 - val_loss: 0.0315\n",
            "Epoch 13/15\n",
            "\u001b[1m469/469\u001b[0m \u001b[32m━━━━━━━━━━━━━━━━━━━━\u001b[0m\u001b[37m\u001b[0m \u001b[1m202s\u001b[0m 321ms/step - accuracy: 0.9828 - loss: 0.0502 - val_accuracy: 0.9909 - val_loss: 0.0375\n",
            "Epoch 14/15\n",
            "\u001b[1m469/469\u001b[0m \u001b[32m━━━━━━━━━━━━━━━━━━━━\u001b[0m\u001b[37m\u001b[0m \u001b[1m201s\u001b[0m 319ms/step - accuracy: 0.9844 - loss: 0.0476 - val_accuracy: 0.9919 - val_loss: 0.0337\n",
            "Epoch 15/15\n",
            "\u001b[1m469/469\u001b[0m \u001b[32m━━━━━━━━━━━━━━━━━━━━\u001b[0m\u001b[37m\u001b[0m \u001b[1m153s\u001b[0m 326ms/step - accuracy: 0.9845 - loss: 0.0455 - val_accuracy: 0.9910 - val_loss: 0.0379\n"
          ]
        }
      ],
      "source": [
        "# Обучение модели\n",
        "history = model.fit(x_train, y_train,\n",
        "                    batch_size=128,\n",
        "                    epochs=15,\n",
        "                    verbose=1,\n",
        "                    validation_data=(x_test, y_test))"
      ]
    },
    {
      "cell_type": "markdown",
      "source": [
        "# Оценка модели на тестовой выборке\n",
        "В этом блоке проводится проверка качества обученной нейронной сети на тестовых данных:\n",
        "\n",
        "- Используется метод model.evaluate, который вычисляет функцию потерь и метрики (в данном случае точность) по тестовому набору.\n",
        "\n",
        "- Параметр verbose=0 отключает вывод подробностей процесса оценки.\n",
        "\n",
        "В результате выводятся два значения:\n",
        "\n",
        "- Test loss — величина ошибки модели на тестовых данных.\n",
        "\n",
        "- Test accuracy — точность модели, выраженная в долях от 1."
      ],
      "metadata": {
        "id": "sqqkcT6HRF4D"
      }
    },
    {
      "cell_type": "code",
      "execution_count": null,
      "metadata": {
        "colab": {
          "base_uri": "https://localhost:8080/"
        },
        "id": "oZRY7bOktDTN",
        "outputId": "6610ef3a-9f8b-452b-a051-07b0a1075029"
      },
      "outputs": [
        {
          "output_type": "stream",
          "name": "stdout",
          "text": [
            "Test loss: 0.037876155227422714\n",
            "Test accuracy: 0.9909999966621399\n"
          ]
        }
      ],
      "source": [
        "# Оценка точности на тестовых данных\n",
        "score = model.evaluate(x_test, y_test, verbose=0)\n",
        "print('Test loss:', score[0])\n",
        "print('Test accuracy:', score[1])"
      ]
    },
    {
      "cell_type": "markdown",
      "source": [
        "# Визуализация процесса обучения модели\n",
        "В данном блоке создаются графики, которые наглядно показывают динамику качества обучения нейронной сети.\n",
        "\n",
        "Первый график отображает изменение точности модели:\n",
        "\n",
        "- На оси X откладывается номер эпохи.\n",
        "\n",
        "- На оси Y — значение точности.\n",
        "\n",
        "- Отдельные линии показывают точность на обучающей (Train Accuracy) и валидационной (Validation Accuracy) выборках.\n",
        "\n",
        "Второй график показывает изменение функции потерь (ошибки) в процессе обучения:\n",
        "\n",
        "- Аналогично, по оси X — эпохи, по оси Y — значение потерь.\n",
        "\n",
        "- Отдельные линии для обучающей и валидационной выборок.\n"
      ],
      "metadata": {
        "id": "eKNZ1MyVRUW9"
      }
    },
    {
      "cell_type": "code",
      "execution_count": null,
      "metadata": {
        "colab": {
          "base_uri": "https://localhost:8080/",
          "height": 354
        },
        "id": "XXrnPcmxteCL",
        "outputId": "9ac5ad8d-ce02-4814-d24a-7d3ad2f447fe"
      },
      "outputs": [
        {
          "output_type": "display_data",
          "data": {
            "text/plain": [
              "<Figure size 1200x400 with 2 Axes>"
            ],
            "image/png": "[encoded data removed]"
          },
          "metadata": {}
        }
      ],
      "source": [
        "# Построение графиков обучения\n",
        "plt.figure(figsize=(12, 4))\n",
        "\n",
        "# График точности\n",
        "plt.subplot(1, 2, 1)\n",
        "plt.plot(history.history['accuracy'], label='Train Accuracy')\n",
        "plt.plot(history.history['val_accuracy'], label='Validation Accuracy')\n",
        "plt.title('Model Accuracy')\n",
        "plt.ylabel('Accuracy')\n",
        "plt.xlabel('Epoch')\n",
        "plt.legend(loc='lower right')\n",
        "\n",
        "# График потерь\n",
        "plt.subplot(1, 2, 2)\n",
        "plt.plot(history.history['loss'], label='Train Loss')\n",
        "plt.plot(history.history['val_loss'], label='Validation Loss')\n",
        "plt.title('Model Loss')\n",
        "plt.ylabel('Loss')\n",
        "plt.xlabel('Epoch')\n",
        "plt.legend(loc='upper right')\n",
        "\n",
        "plt.tight_layout()\n",
        "plt.show()"
      ]
    },
    {
      "cell_type": "markdown",
      "source": [
        "# Вывод по зданию\n",
        "Выполненная сверточная нейронная сеть продемонстрировала высокую эффективность в задаче распознавания рукописных цифр. Тестовая точность составила около 99.1%, что свидетельствует о способности модели правильно классифицировать изображения с минимальным числом ошибок. При этом значение функции потерь на тестовых данных было низким (примерно 0.038), что подтверждает хорошее обобщение модели и отсутствие переобучения.\n",
        "\n",
        "Достигнутые результаты говорят о том, что выбранная архитектура — с двумя сверточными слоями, слоями нормализации, подвыборки и регуляризации, а также полносвязными слоями — является оптимальной для решения данной задачи при заданных гиперпараметрах."
      ],
      "metadata": {
        "id": "uevtQt79RWQx"
      }
    }
  ],
  "metadata": {
    "accelerator": "GPU",
    "colab": {
      "gpuType": "T4",
      "provenance": []
    },
    "kernelspec": {
      "display_name": "Python 3",
      "name": "python3"
    },
    "language_info": {
      "name": "python"
    }
  },
  "nbformat": 4,
  "nbformat_minor": 0
}